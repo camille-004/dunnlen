{
 "cells": [
  {
   "cell_type": "code",
   "execution_count": 1,
   "outputs": [
    {
     "name": "stdout",
     "output_type": "stream",
     "text": [
      "X_train shape:  (80, 2)\n",
      "X_test shape:  (20, 2)\n",
      "y_train shape:  (80,)\n",
      "y_test shape:  (20,)\n"
     ]
    }
   ],
   "source": [
    "import numpy as np\n",
    "import pandas as pd\n",
    "from sklearn.model_selection import train_test_split\n",
    "from standard_feed_forward import StandardFF\n",
    "\n",
    "# Number of samples\n",
    "n = 100\n",
    "\n",
    "data = []\n",
    "for i in range(n):\n",
    "    temp = {}\n",
    "    temp.update({'temperature': np.random.normal(14, 3)})\n",
    "    temp.update({'moisture': np.random.normal(96, 2)})\n",
    "\n",
    "    label = 0\n",
    "    if temp['temperature'] < 10 or temp['temperature'] > 18:\n",
    "        label = 1\n",
    "    elif temp['moisture'] < 94 or temp['moisture'] > 98:\n",
    "        label = 1\n",
    "    temp.update({'label': label})\n",
    "\n",
    "    data.append(temp)\n",
    "\n",
    "df = pd.DataFrame(data=data)\n",
    "df.head()\n",
    "\n",
    "X = df[['temperature', 'moisture']]\n",
    "y = df['label']\n",
    "\n",
    "X_train, X_test, y_train, y_test = train_test_split(X, y, test_size=0.2, random_state=123)\n",
    "print(\"X_train shape: \", X_train.shape)\n",
    "print(\"X_test shape: \", X_test.shape)\n",
    "print(\"y_train shape: \", y_train.shape)\n",
    "print(\"y_test shape: \", y_test.shape)"
   ],
   "metadata": {
    "collapsed": false,
    "pycharm": {
     "name": "#%%\n"
    }
   }
  },
  {
   "cell_type": "code",
   "execution_count": 2,
   "outputs": [
    {
     "name": "stderr",
     "output_type": "stream",
     "text": [
      "/Users/camilledunning/Desktop/dunnlenn/StandardFF/standard_feed_forward.py:39: FutureWarning: elementwise comparison failed; returning scalar instead, but in the future will perform elementwise comparison\n",
      "  if act_func == 'sigmoid':\n",
      "/Users/camilledunning/Desktop/dunnlenn/StandardFF/standard_feed_forward.py:41: FutureWarning: elementwise comparison failed; returning scalar instead, but in the future will perform elementwise comparison\n",
      "  elif act_func == 'relu':\n"
     ]
    },
    {
     "ename": "ValueError",
     "evalue": "shapes (20,40) and (2,80) not aligned: 40 (dim 1) != 2 (dim 0)",
     "output_type": "error",
     "traceback": [
      "\u001B[0;31m---------------------------------------------------------------------------\u001B[0m",
      "\u001B[0;31mValueError\u001B[0m                                Traceback (most recent call last)",
      "\u001B[0;32m<ipython-input-2-e824a640e37e>\u001B[0m in \u001B[0;36m<module>\u001B[0;34m\u001B[0m\n\u001B[1;32m      3\u001B[0m \u001B[0;34m\u001B[0m\u001B[0m\n\u001B[1;32m      4\u001B[0m \u001B[0mnn\u001B[0m \u001B[0;34m=\u001B[0m \u001B[0mStandardFF\u001B[0m\u001B[0;34m(\u001B[0m\u001B[0;36m200\u001B[0m\u001B[0;34m,\u001B[0m \u001B[0;36m0.5\u001B[0m\u001B[0;34m,\u001B[0m \u001B[0mlayer_dimensions\u001B[0m\u001B[0;34m,\u001B[0m \u001B[0mactivation_layers\u001B[0m\u001B[0;34m)\u001B[0m\u001B[0;34m\u001B[0m\u001B[0;34m\u001B[0m\u001B[0m\n\u001B[0;32m----> 5\u001B[0;31m \u001B[0mnn\u001B[0m\u001B[0;34m.\u001B[0m\u001B[0mfit\u001B[0m\u001B[0;34m(\u001B[0m\u001B[0mX_train\u001B[0m\u001B[0;34m,\u001B[0m \u001B[0my_train\u001B[0m\u001B[0;34m,\u001B[0m \u001B[0;34m'he'\u001B[0m\u001B[0;34m)\u001B[0m\u001B[0;34m\u001B[0m\u001B[0;34m\u001B[0m\u001B[0m\n\u001B[0m",
      "\u001B[0;32m~/Desktop/dunnlenn/StandardFF/standard_feed_forward.py\u001B[0m in \u001B[0;36mfit\u001B[0;34m(self, features_train, labels_train, init_method)\u001B[0m\n\u001B[1;32m    215\u001B[0m         \u001B[0;32mfor\u001B[0m \u001B[0mi\u001B[0m \u001B[0;32min\u001B[0m \u001B[0mrange\u001B[0m\u001B[0;34m(\u001B[0m\u001B[0mself\u001B[0m\u001B[0;34m.\u001B[0m\u001B[0mepochs\u001B[0m\u001B[0;34m)\u001B[0m\u001B[0;34m:\u001B[0m\u001B[0;34m\u001B[0m\u001B[0;34m\u001B[0m\u001B[0m\n\u001B[1;32m    216\u001B[0m             \u001B[0;31m# Run forward propagation\u001B[0m\u001B[0;34m\u001B[0m\u001B[0;34m\u001B[0m\u001B[0;34m\u001B[0m\u001B[0m\n\u001B[0;32m--> 217\u001B[0;31m             \u001B[0mA\u001B[0m\u001B[0;34m,\u001B[0m \u001B[0mcache\u001B[0m \u001B[0;34m=\u001B[0m \u001B[0mself\u001B[0m\u001B[0;34m.\u001B[0m\u001B[0mforward_propagation\u001B[0m\u001B[0;34m(\u001B[0m\u001B[0mfeatures_train\u001B[0m\u001B[0;34m)\u001B[0m\u001B[0;34m\u001B[0m\u001B[0;34m\u001B[0m\u001B[0m\n\u001B[0m\u001B[1;32m    218\u001B[0m \u001B[0;34m\u001B[0m\u001B[0m\n\u001B[1;32m    219\u001B[0m             \u001B[0;31m# Calculate cost\u001B[0m\u001B[0;34m\u001B[0m\u001B[0;34m\u001B[0m\u001B[0;34m\u001B[0m\u001B[0m\n",
      "\u001B[0;32m~/Desktop/dunnlenn/StandardFF/standard_feed_forward.py\u001B[0m in \u001B[0;36mforward_propagation\u001B[0;34m(self, features_train)\u001B[0m\n\u001B[1;32m    113\u001B[0m         \u001B[0;31m# Exclude the final layer\u001B[0m\u001B[0;34m\u001B[0m\u001B[0;34m\u001B[0m\u001B[0;34m\u001B[0m\u001B[0m\n\u001B[1;32m    114\u001B[0m         \u001B[0;32mfor\u001B[0m \u001B[0mi\u001B[0m \u001B[0;32min\u001B[0m \u001B[0mrange\u001B[0m\u001B[0;34m(\u001B[0m\u001B[0mself\u001B[0m\u001B[0;34m.\u001B[0m\u001B[0mL\u001B[0m \u001B[0;34m-\u001B[0m \u001B[0;36m1\u001B[0m\u001B[0;34m)\u001B[0m\u001B[0;34m:\u001B[0m\u001B[0;34m\u001B[0m\u001B[0;34m\u001B[0m\u001B[0m\n\u001B[0;32m--> 115\u001B[0;31m             Z = self.params['weight_' + str(i + 1)].dot(activation_Z) + self.params[\n\u001B[0m\u001B[1;32m    116\u001B[0m                 'bias_' + str(i + 1)]\n\u001B[1;32m    117\u001B[0m             \u001B[0mself\u001B[0m\u001B[0;34m.\u001B[0m\u001B[0mactivation_Z\u001B[0m \u001B[0;34m=\u001B[0m \u001B[0mself\u001B[0m\u001B[0;34m.\u001B[0m\u001B[0mactivation\u001B[0m\u001B[0;34m(\u001B[0m\u001B[0mZ\u001B[0m\u001B[0;34m,\u001B[0m \u001B[0mself\u001B[0m\u001B[0;34m.\u001B[0m\u001B[0mactivation_layers\u001B[0m\u001B[0;34m[\u001B[0m\u001B[0mi\u001B[0m\u001B[0;34m]\u001B[0m\u001B[0;34m)\u001B[0m\u001B[0;34m\u001B[0m\u001B[0;34m\u001B[0m\u001B[0m\n",
      "\u001B[0;31mValueError\u001B[0m: shapes (20,40) and (2,80) not aligned: 40 (dim 1) != 2 (dim 0)"
     ]
    }
   ],
   "source": [
    "layer_dimensions = [40, 20, 10, 5]\n",
    "activation_layers = ['sigmoid', 'reLu', 'reLu', 'sigmoid']\n",
    "\n",
    "nn = StandardFF(200, 0.5, layer_dimensions, activation_layers)\n",
    "nn.fit(X_train, y_train, 'he')"
   ],
   "metadata": {
    "collapsed": false,
    "pycharm": {
     "name": "#%%\n"
    }
   }
  },
  {
   "cell_type": "code",
   "execution_count": null,
   "outputs": [],
   "source": [],
   "metadata": {
    "collapsed": false,
    "pycharm": {
     "name": "#%%\n"
    }
   }
  },
  {
   "cell_type": "code",
   "execution_count": null,
   "outputs": [],
   "source": [],
   "metadata": {
    "collapsed": false,
    "pycharm": {
     "name": "#%%\n"
    }
   }
  }
 ],
 "metadata": {
  "kernelspec": {
   "name": "pycharm-6f941c22",
   "language": "python",
   "display_name": "PyCharm (DLLibrary - DunLen)"
  },
  "language_info": {
   "codemirror_mode": {
    "name": "ipython",
    "version": 2
   },
   "file_extension": ".py",
   "mimetype": "text/x-python",
   "name": "python",
   "nbconvert_exporter": "python",
   "pygments_lexer": "ipython2",
   "version": "2.7.6"
  }
 },
 "nbformat": 4,
 "nbformat_minor": 0
}